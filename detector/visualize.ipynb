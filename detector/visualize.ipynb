{
 "cells": [
  {
   "cell_type": "code",
   "execution_count": 1,
   "metadata": {},
   "outputs": [
    {
     "name": "stdout",
     "output_type": "stream",
     "text": [
      "184\n",
      "        reading took 1.6815440000000001 sec\n",
      "       to numpy took 0.771617 sec\n",
      "   thresholding took 0.6699019999999996 sec\n",
      " adding offsets took 2.000000000279556e-06 sec\n",
      "       sampling took 0.024831999999999965 sec\n",
      "creating target took 0.017406000000000255 sec\n",
      "         total time: 3.165303 sec\n",
      "\n",
      "\n"
     ]
    }
   ],
   "source": [
    "from data import CTDataset\n",
    "import numpy as np\n",
    "import visualize\n",
    "\n",
    "train = False\n",
    "dataset = CTDataset(root=\"../data\",\n",
    "                    threshold_min=1700,\n",
    "                    threshold_max=2700,\n",
    "                    npoints=25000,\n",
    "                    train=train,\n",
    "                    verbose=True)\n",
    "\n",
    "index = np.random.randint(0, len(dataset))\n",
    "print(index)\n",
    "index = 17\n",
    "data, target, volume, centroid, labels, num_labels = dataset.load(index)\n",
    "intensities = list(map(lambda d: volume[d[0], d[1], d[2]], data))\n",
    "target_idx = np.squeeze(data[np.argwhere(target == 1)])\n",
    "target_intensities = volume[target_idx[:, 0], target_idx[:, 1], target_idx[:, 2]]"
   ]
  },
  {
   "cell_type": "code",
   "execution_count": 2,
   "metadata": {},
   "outputs": [
    {
     "name": "stdout",
     "output_type": "stream",
     "text": [
      "(25000, 3)\n",
      "(122, 35, 64)\n",
      "(25000,)\n",
      "(722, 420, 620)\n",
      "(25000,)\n"
     ]
    }
   ],
   "source": [
    "print(data.shape)\n",
    "print(labels[0].shape)\n",
    "print(target.shape)\n",
    "print(volume.shape)\n",
    "intensities = np.array(list(map(lambda d: volume[d[0], d[1], d[2]], data)))\n",
    "print(intensities.shape)"
   ]
  },
  {
   "cell_type": "code",
   "execution_count": null,
   "metadata": {},
   "outputs": [],
   "source": [
    "visualize.volshow(volume)"
   ]
  },
  {
   "cell_type": "code",
   "execution_count": null,
   "metadata": {},
   "outputs": [],
   "source": [
    "visualize.scatter(data)"
   ]
  },
  {
   "cell_type": "code",
   "execution_count": 3,
   "metadata": {},
   "outputs": [
    {
     "data": {
      "application/vnd.jupyter.widget-view+json": {
       "model_id": "dbffe41b35cc49a0961caa8564a88cf4",
       "version_major": 2,
       "version_minor": 0
      },
      "text/plain": [
       "VBox(children=(Figure(anglex=1.3962634015954636, angley=3.490658503988659, camera_center=[0.0, 0.0, 0.0], heig…"
      ]
     },
     "metadata": {},
     "output_type": "display_data"
    }
   ],
   "source": [
    "visualize.scatter_with_target(data, target)"
   ]
  },
  {
   "cell_type": "code",
   "execution_count": null,
   "metadata": {},
   "outputs": [],
   "source": [
    "visualize.scatter_with_intensities(data, intensities)"
   ]
  },
  {
   "cell_type": "code",
   "execution_count": null,
   "metadata": {},
   "outputs": [],
   "source": [
    "%matplotlib inline\n",
    "import matplotlib.pyplot as plt\n",
    "\n",
    "plt.hist(intensities, bins='auto')\n",
    "plt.hist(target_intensities, bins='auto')\n",
    "\n",
    "median = np.median(target_intensities)\n",
    "mean = np.mean(target_intensities)\n",
    "std = np.std(target_intensities)\n",
    "minimum = target_intensities.min()\n",
    "maximum = target_intensities.max()\n",
    "print(\"median: \", median)\n",
    "print(\"  mean: \", mean)\n",
    "print(\"   std: \", std)\n",
    "print(\"   min: \", minimum)\n",
    "print(\"   max: \", maximum)\n",
    "\n",
    "None"
   ]
  },
  {
   "cell_type": "code",
   "execution_count": 4,
   "metadata": {
    "scrolled": true
   },
   "outputs": [
    {
     "name": "stdout",
     "output_type": "stream",
     "text": [
      "(334, 382, 244)\n"
     ]
    }
   ],
   "source": [
    "import utils\n",
    "\n",
    "sample = np.concatenate((data, np.reshape(intensities, (-1, 1))), axis=1)\n",
    "seed = utils.select_seed(sample)\n",
    "print(seed)\n",
    "seg = utils.region_grow(volume, seed, 1)\n",
    "\n",
    "result = seg[data[:, 0], data[:, 1], data[:, 2]].astype(np.int)"
   ]
  },
  {
   "cell_type": "code",
   "execution_count": 5,
   "metadata": {},
   "outputs": [
    {
     "data": {
      "application/vnd.jupyter.widget-view+json": {
       "model_id": "353d948644f541b18240aeb4e43037fd",
       "version_major": 2,
       "version_minor": 0
      },
      "text/plain": [
       "VBox(children=(Figure(anglex=1.3962634015954636, angley=3.490658503988659, camera_center=[0.0, 0.0, 0.0], heig…"
      ]
     },
     "metadata": {},
     "output_type": "display_data"
    }
   ],
   "source": [
    "visualize.scatter_with_target(data, result)"
   ]
  },
  {
   "cell_type": "code",
   "execution_count": null,
   "metadata": {},
   "outputs": [],
   "source": [
    "print(np.sort(f)[0:10])"
   ]
  }
 ],
 "metadata": {
  "kernelspec": {
   "display_name": "Python 3",
   "language": "python",
   "name": "python3"
  },
  "language_info": {
   "codemirror_mode": {
    "name": "ipython",
    "version": 3
   },
   "file_extension": ".py",
   "mimetype": "text/x-python",
   "name": "python",
   "nbconvert_exporter": "python",
   "pygments_lexer": "ipython3",
   "version": "3.6.5"
  }
 },
 "nbformat": 4,
 "nbformat_minor": 1
}
