{
 "cells": [
  {
   "cell_type": "code",
   "execution_count": 1,
   "metadata": {},
   "outputs": [],
   "source": [
    "from data import CTDataset\n",
    "import visualize\n",
    "import numpy as np\n",
    "\n",
    "threshold_min = 1700\n",
    "threshold_max = 2700\n",
    "\n",
    "dataset = CTDataset(root='../data',\n",
    "                    threshold_min=int(threshold_min),\n",
    "                    threshold_max=int(threshold_max),\n",
    "                    npoints=25000,\n",
    "                    train=False, dim4=True)"
   ]
  },
  {
   "cell_type": "code",
   "execution_count": 277,
   "metadata": {},
   "outputs": [],
   "source": [
    "datafile = \"BAGGAGE_20180516_094413_125850.mha\"\n",
    "index = dataset.data.index(datafile)\n",
    "\n",
    "sampled, target, volume, _, labels, _ = dataset.load(index)"
   ]
  },
  {
   "cell_type": "code",
   "execution_count": 278,
   "metadata": {},
   "outputs": [
    {
     "data": {
      "application/vnd.jupyter.widget-view+json": {
       "model_id": "fb303442b1644d1d94e651bb7936f8f4",
       "version_major": 2,
       "version_minor": 0
      },
      "text/plain": [
       "VBox(children=(Figure(anglex=1.3962634015954636, angley=3.490658503988659, camera_center=[0.0, 0.0, 0.0], heig…"
      ]
     },
     "metadata": {},
     "output_type": "display_data"
    }
   ],
   "source": [
    "visualize.scatter_with_target(sampled, target)"
   ]
  },
  {
   "cell_type": "code",
   "execution_count": 63,
   "metadata": {},
   "outputs": [
    {
     "data": {
      "application/vnd.jupyter.widget-view+json": {
       "model_id": "bd5ee497dc704cd595c782a078bb5322",
       "version_major": 2,
       "version_minor": 0
      },
      "text/plain": [
       "VBox(children=(Figure(camera_center=[0.0, 0.0, 0.0], height=500, matrix_projection=[0.0, 0.0, 0.0, 0.0, 0.0, 0…"
      ]
     },
     "metadata": {},
     "output_type": "display_data"
    }
   ],
   "source": [
    "label = np.reshape(sampled[np.argwhere(target == 1)], (-1, 3))\n",
    "visualize.scatter(label, color='red')"
   ]
  }
 ],
 "metadata": {
  "kernelspec": {
   "display_name": "Python 3",
   "language": "python",
   "name": "python3"
  },
  "language_info": {
   "codemirror_mode": {
    "name": "ipython",
    "version": 3
   },
   "file_extension": ".py",
   "mimetype": "text/x-python",
   "name": "python",
   "nbconvert_exporter": "python",
   "pygments_lexer": "ipython3",
   "version": "3.6.5"
  }
 },
 "nbformat": 4,
 "nbformat_minor": 1
}
