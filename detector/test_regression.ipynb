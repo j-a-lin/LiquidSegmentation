{
 "cells": [
  {
   "cell_type": "code",
   "execution_count": null,
   "metadata": {},
   "outputs": [],
   "source": [
    "from __future__ import print_function\n",
    "import argparse\n",
    "import os\n",
    "import random\n",
    "import numpy as np\n",
    "import torch\n",
    "import torch.nn as nn\n",
    "import torch.nn.parallel\n",
    "import torch.backends.cudnn as cudnn\n",
    "import torch.optim as optim\n",
    "import torch.utils.data\n",
    "import torchvision.datasets as dset\n",
    "import torchvision.transforms as transforms\n",
    "import torchvision.utils as vutils\n",
    "from torch.autograd import Variable\n",
    "from data import CTDataset\n",
    "from regression import PointNetReg\n",
    "import torch.nn.functional as F\n",
    "\n",
    "batch_size = 2\n",
    "workers = 4\n",
    "threshold_min = 1700\n",
    "threshold_max = 2700\n",
    "npoints = 50000\n",
    "\n",
    "test_dataset = CTDataset(root='../data',\n",
    "                         threshold_min=int(threshold_min),\n",
    "                         threshold_max=int(threshold_max),\n",
    "                         npoints=npoints,\n",
    "                         train=False, dim4=True)\n",
    "\n",
    "print(\"# of  testing examples: {0}\".format(len(test_dataset)))\n",
    "num_classes = test_dataset.nclasses\n",
    "print(\"# of    object classes: {0}\".format(num_classes))\n",
    "\n",
    "testdataloader = torch.utils.data.DataLoader(test_dataset, batch_size=batch_size,\n",
    "                                             shuffle=True, num_workers=int(workers))"
   ]
  },
  {
   "cell_type": "code",
   "execution_count": null,
   "metadata": {},
   "outputs": [],
   "source": [
    "model = \"./pth/model_99.pth\"\n",
    "\n",
    "classifier = PointNetReg(num_points=npoints)\n",
    "classifier.load_state_dict(torch.load(model))\n",
    "classifier.cuda()\n",
    "None"
   ]
  },
  {
   "cell_type": "code",
   "execution_count": null,
   "metadata": {},
   "outputs": [],
   "source": [
    "i, data = next(enumerate(testdataloader, 0))\n",
    "points, target, centroid, index = data\n",
    "points, centroid = Variable(points), Variable(centroid)\n",
    "points = points.transpose(2, 1)\n",
    "points, centroid = points.cuda(), centroid.cuda()\n",
    "pred, _ = classifier(points)\n",
    "pred = pred.view(-1)\n",
    "centroid = centroid.view(-1)\n",
    "\n",
    "loss = F.mse_loss(pred, centroid)\n",
    "print(\"test loss: {0} \".format(\n",
    "    loss.item()\n",
    "))"
   ]
  },
  {
   "cell_type": "code",
   "execution_count": null,
   "metadata": {
    "scrolled": true
   },
   "outputs": [],
   "source": [
    "import visualize\n",
    "\n",
    "data = points[0, :, :].transpose(1, 0).cpu().numpy()\n",
    "prediction = pred.view(batch_size, -1)[0, :].data.cpu().numpy()\n",
    "print(prediction)"
   ]
  },
  {
   "cell_type": "code",
   "execution_count": null,
   "metadata": {},
   "outputs": [],
   "source": [
    "gt = target.view(batch_size, -1)[0, :].cpu().numpy()\n",
    "visualize.scatter_with_target(data, gt)"
   ]
  },
  {
   "cell_type": "code",
   "execution_count": null,
   "metadata": {},
   "outputs": [],
   "source": [
    "from utils import region_grow\n",
    "seed = tuple(np.round(prediction).astype(np.int))\n",
    "print(seed)\n",
    "\n",
    "_, _, volume, centroid, _, _ = test_dataset.load(index[0])\n",
    "\n",
    "\n",
    "seg = region_grow(volume, seed, 1)\n",
    "\n",
    "result = np.argwhere(seg == True)\n",
    "\n",
    "visualize.scatter(result)"
   ]
  },
  {
   "cell_type": "code",
   "execution_count": null,
   "metadata": {},
   "outputs": [],
   "source": [
    "gt_seed = tuple(np.round(centroid).astype(np.int))\n",
    "gt_seg = region_grow(volume, gt_seed, 1)\n",
    "gt_result = np.argwhere(gt_seg == True)\n",
    "visualize.scatter(gt_result)"
   ]
  }
 ],
 "metadata": {
  "kernelspec": {
   "display_name": "Python 3",
   "language": "python",
   "name": "python3"
  },
  "language_info": {
   "codemirror_mode": {
    "name": "ipython",
    "version": 3
   },
   "file_extension": ".py",
   "mimetype": "text/x-python",
   "name": "python",
   "nbconvert_exporter": "python",
   "pygments_lexer": "ipython3",
   "version": "3.6.5"
  }
 },
 "nbformat": 4,
 "nbformat_minor": 1
}
